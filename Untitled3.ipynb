{
 "cells": [
  {
   "cell_type": "code",
   "execution_count": null,
   "id": "0a65b21b-834e-4bf2-9fa8-37a2e25694d2",
   "metadata": {},
   "outputs": [],
   "source": [
    "Age = dict()"
   ]
  }
 ],
 "metadata": {
  "kernelspec": {
   "display_name": "Python 3",
   "language": "python",
   "name": "python3"
  },
  "language_info": {
   "name": ""
  }
 },
 "nbformat": 4,
 "nbformat_minor": 5
}
