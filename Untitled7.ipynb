{
 "cells": [
  {
   "cell_type": "code",
   "execution_count": null,
   "id": "a7d69d25",
   "metadata": {},
   "outputs": [],
   "source": [
    "class Mobile:\n"
   ]
  }
 ],
 "metadata": {
  "kernelspec": {
   "display_name": "Python 3",
   "language": "python",
   "name": "python3"
  }
 },
 "nbformat": 4,
 "nbformat_minor": 5
}
