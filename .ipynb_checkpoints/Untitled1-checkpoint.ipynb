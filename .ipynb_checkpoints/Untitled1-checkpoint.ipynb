{
 "cells": [
  {
   "cell_type": "code",
   "execution_count": null,
   "id": "095bb68d",
   "metadata": {},
   "outputs": [],
   "source": [
    "#function with many arguments"
   ]
  },
  {
   "cell_type": "code",
   "execution_count": null,
   "id": "396a1a9d",
   "metadata": {},
   "outputs": [],
   "source": [
    "def message_prints():\n"
   ]
  }
 ],
 "metadata": {
  "kernelspec": {
   "display_name": "Python 3",
   "language": "python",
   "name": "python3"
  }
 },
 "nbformat": 4,
 "nbformat_minor": 5
}
