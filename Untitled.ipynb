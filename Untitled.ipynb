{
 "cells": [
  {
   "cell_type": "code",
   "execution_count": null,
   "id": "cd36e108-4d1a-427c-a5f9-296d77b746c2",
   "metadata": {},
   "outputs": [],
   "source": [
    "def Message_print(*a,**b):\n",
    "    print(a)\n",
    "    print(b)"
   ]
  },
  {
   "cell_type": "code",
   "execution_count": null,
   "id": "c7751e51-73f9-4cae-91d6-f4df357e6cfd",
   "metadata": {},
   "outputs": [],
   "source": [
    "Message_print(1,2,3,4,5,6,,8,name=\"Riju\")"
   ]
  },
  {
   "cell_type": "code",
   "execution_count": null,
   "id": "11a7ae9b-948f-4d83-b970-72ec9bd74013",
   "metadata": {},
   "outputs": [],
   "source": []
  },
  {
   "cell_type": "code",
   "execution_count": null,
   "id": "cad213ae-979c-4970-8c94-71095d807c01",
   "metadata": {},
   "outputs": [],
   "source": []
  },
  {
   "cell_type": "code",
   "execution_count": null,
   "id": "6f11ede8-9004-41aa-9055-1e204615fa0a",
   "metadata": {},
   "outputs": [],
   "source": []
  }
 ],
 "metadata": {
  "kernelspec": {
   "display_name": "Python 3",
   "language": "python",
   "name": "python3"
  },
  "language_info": {
   "name": ""
  }
 },
 "nbformat": 4,
 "nbformat_minor": 5
}
